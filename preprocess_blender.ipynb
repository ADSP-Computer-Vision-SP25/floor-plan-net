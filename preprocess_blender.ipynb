{
 "cells": [
  {
   "cell_type": "code",
   "id": "initial_id",
   "metadata": {
    "collapsed": true,
    "ExecuteTime": {
     "end_time": "2025-05-21T15:25:08.265517Z",
     "start_time": "2025-05-21T15:25:08.248325Z"
    }
   },
   "source": [
    "#!/usr/bin/env python3\n",
    "\"\"\"\n",
    "preprocess_svg.py\n",
    "Parses an SVG and extracts line segments by semantic-id,\n",
    "outputting structured JSON ready for Blender import.\n",
    "\"\"\"\n",
    "import xml.etree.ElementTree as ET\n",
    "import json\n",
    "import re\n",
    "import os\n",
    "\n",
    "# ——— CONFIG ———\n",
    "INPUT_SVG   = \"data/cad/images/train-01/0128-0104.svg\"\n",
    "OUTPUT_JSON = \"segments-128-0140.json\"\n",
    "TARGET_IDS  = {\n",
    "    \"1\":  \"wall\",\n",
    "    \"2\":  \"curtain wall\",\n",
    "    \"3\":  \"single door\",\n",
    "    \"4\":  \"double door\",\n",
    "    \"5\":  \"sliding door\",\n",
    "    \"9\":  \"window\",\n",
    "    \"11\": \"sliding window\"\n",
    "}\n",
    "\n",
    "# Ensure input file exists\n",
    "if not os.path.isfile(INPUT_SVG):\n",
    "    raise FileNotFoundError(f\"SVG file not found: {INPUT_SVG}\")\n",
    "\n",
    "# Helper to strip namespace\n",
    "def strip_ns(tag):\n",
    "    return tag.split('}')[-1]\n",
    "\n",
    "# Parse SVG\n",
    "tree = ET.parse(INPUT_SVG)\n",
    "root = tree.getroot()\n",
    "\n",
    "# Prepare output\n",
    "output = {label: [] for label in TARGET_IDS.values()}\n",
    "total = 0\n",
    "\n",
    "# Regex to match 'M x1,y1 L x2,y2'\n",
    "pattern = re.compile(r\"M\\s*([-\\d\\.]+),([-\\d\\.]+)\\s+L\\s+([-\\d\\.]+),([-\\d\\.]+)\")\n",
    "\n",
    "for elem in root.iter():\n",
    "    if strip_ns(elem.tag) != 'path':\n",
    "        continue\n",
    "\n",
    "    sid = elem.get('semantic-id')\n",
    "    label = TARGET_IDS.get(sid)\n",
    "    if label is None:\n",
    "        continue\n",
    "\n",
    "    d = elem.get('d', '').strip()\n",
    "    if not d:\n",
    "        continue\n",
    "\n",
    "    m = pattern.match(d)\n",
    "    if not m:\n",
    "        continue\n",
    "\n",
    "    x1, y1, x2, y2 = map(float, m.groups())\n",
    "    output[label].append({'x1': x1, 'y1': y1, 'x2': x2, 'y2': y2})\n",
    "    total += 1\n",
    "\n",
    "# Write JSON\n",
    "with open(OUTPUT_JSON, 'w') as f:\n",
    "    json.dump(output, f, indent=2)\n",
    "\n",
    "print(f\"Wrote {total} segments across {len(output)} categories to {OUTPUT_JSON}\")"
   ],
   "outputs": [
    {
     "name": "stdout",
     "output_type": "stream",
     "text": [
      "Wrote 424 segments across 7 categories to segments-128-0140.json\n"
     ]
    }
   ],
   "execution_count": 2
  }
 ],
 "metadata": {
  "kernelspec": {
   "display_name": "Python 3",
   "language": "python",
   "name": "python3"
  },
  "language_info": {
   "codemirror_mode": {
    "name": "ipython",
    "version": 2
   },
   "file_extension": ".py",
   "mimetype": "text/x-python",
   "name": "python",
   "nbconvert_exporter": "python",
   "pygments_lexer": "ipython2",
   "version": "2.7.6"
  }
 },
 "nbformat": 4,
 "nbformat_minor": 5
}
