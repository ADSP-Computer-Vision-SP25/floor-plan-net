{
 "cells": [
  {
   "cell_type": "code",
   "id": "initial_id",
   "metadata": {
    "collapsed": true,
    "ExecuteTime": {
     "end_time": "2025-05-19T18:38:37.070335Z",
     "start_time": "2025-05-19T18:38:37.006523Z"
    }
   },
   "source": [
    "# preprocess_svg.py\n",
    "import xml.etree.ElementTree as ET\n",
    "from xml.dom import minidom\n",
    "\n",
    "# ——— CONFIG ———\n",
    "INPUT_SVG     = \"data/cad/images/train-01/0001-0040.svg\"\n",
    "OUTPUT_SVG    = \"0001-0040-clean.svg\"\n",
    "TARGET_SEMANTIC = \"1\"\n",
    "SVG_NS          = \"http://www.w3.org/2000/svg\"\n",
    "\n",
    "# parse the original SVG\n",
    "ET.register_namespace(\"\", SVG_NS)  # preserve xmlns in output\n",
    "tree = ET.parse(INPUT_SVG)\n",
    "root = tree.getroot()\n",
    "\n",
    "# collect all <path> elements regardless of namespace\n",
    "all_paths = [el for el in root.iter() if el.tag.endswith(\"path\")]\n",
    "\n",
    "# filter by semantic-id\n",
    "keep_paths = [p for p in all_paths if p.get(\"semantic-id\") == TARGET_SEMANTIC]\n",
    "\n",
    "# build a new <svg> root (same tag & attributes, but no children yet)\n",
    "new_root = ET.Element(root.tag, root.attrib)\n",
    "\n",
    "# clone & append just the paths we want\n",
    "for p in keep_paths:\n",
    "    sub = ET.SubElement(new_root, p.tag, p.attrib)\n",
    "\n",
    "# convert to a “rough” byte string\n",
    "rough_xml = ET.tostring(new_root, encoding=\"utf-8\")\n",
    "\n",
    "# parse with minidom and pretty-print\n",
    "parsed = minidom.parseString(rough_xml)\n",
    "pretty_xml = parsed.toprettyxml(indent=\"  \", encoding=\"utf-8\")\n",
    "\n",
    "# write out the cleaned & pretty SVG\n",
    "with open(OUTPUT_SVG, \"wb\") as f:\n",
    "    # strip any blank lines that minidom might introduce\n",
    "    for line in pretty_xml.splitlines():\n",
    "        if line.strip():\n",
    "            f.write(line + b\"\\n\")\n",
    "\n",
    "print(f\"Kept {len(keep_paths)} paths with semantic-id={TARGET_SEMANTIC}\")\n",
    "print(f\"Wrote pretty-printed SVG → {OUTPUT_SVG}\")"
   ],
   "outputs": [
    {
     "name": "stdout",
     "output_type": "stream",
     "text": [
      "Kept 839 paths with semantic-id=1\n",
      "Wrote pretty-printed SVG → 0001-0040-clean.svg\n"
     ]
    }
   ],
   "execution_count": 7
  }
 ],
 "metadata": {
  "kernelspec": {
   "display_name": "Python 3",
   "language": "python",
   "name": "python3"
  },
  "language_info": {
   "codemirror_mode": {
    "name": "ipython",
    "version": 2
   },
   "file_extension": ".py",
   "mimetype": "text/x-python",
   "name": "python",
   "nbconvert_exporter": "python",
   "pygments_lexer": "ipython2",
   "version": "2.7.6"
  }
 },
 "nbformat": 4,
 "nbformat_minor": 5
}
